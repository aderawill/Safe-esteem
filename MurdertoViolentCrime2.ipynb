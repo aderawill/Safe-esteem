{
 "cells": [
  {
   "cell_type": "markdown",
   "metadata": {},
   "source": [
    "## Estimating Violent Crime Using Murder Rate in the United States\n",
    "#### Daniel Verdear for Safe-esteem"
   ]
  },
  {
   "cell_type": "markdown",
   "metadata": {},
   "source": [
    "A primary goal of scaling the Safe-esteem model is identifying a data proxy for violent crime. In some jurisdictions, violent crime reporting is very dubious, but homicides are much more likely to be reported given their concrete evidence and high impact. It would be incredibly useful to risk scoring if total violent crime could be estimated using a heuristic algorithm based on population and homicides. \n",
    "\n",
    "This experiment will test the viability of this idea by using a machine learning approach to analyze data from approximately 250 municipalities in the United States. The data was lifted from the UCR repository and, due to the structure of the Excel table, reorganized and simplified to best fit the methodology of this experiment. Of all reporting municipalities, the 250 were chosen at random (so they are NOT necessarily a representative sample) using numpy's random number generator."
   ]
  },
  {
   "cell_type": "code",
   "execution_count": 1,
   "metadata": {},
   "outputs": [],
   "source": [
    "import numpy as np\n",
    "import scipy as sp\n",
    "import matplotlib.pyplot as plt\n",
    "import pandas as pd\n",
    "from sklearn.model_selection import train_test_split\n",
    "from sklearn.linear_model import LinearRegression\n",
    "from sklearn import metrics"
   ]
  },
  {
   "cell_type": "code",
   "execution_count": 2,
   "metadata": {},
   "outputs": [
    {
     "name": "stdout",
     "output_type": "stream",
     "text": [
      "(251, 3)\n"
     ]
    },
    {
     "data": {
      "text/html": [
       "<div>\n",
       "<style scoped>\n",
       "    .dataframe tbody tr th:only-of-type {\n",
       "        vertical-align: middle;\n",
       "    }\n",
       "\n",
       "    .dataframe tbody tr th {\n",
       "        vertical-align: top;\n",
       "    }\n",
       "\n",
       "    .dataframe thead th {\n",
       "        text-align: right;\n",
       "    }\n",
       "</style>\n",
       "<table border=\"1\" class=\"dataframe\">\n",
       "  <thead>\n",
       "    <tr style=\"text-align: right;\">\n",
       "      <th></th>\n",
       "      <th>population</th>\n",
       "      <th>vc</th>\n",
       "      <th>homicide</th>\n",
       "    </tr>\n",
       "  </thead>\n",
       "  <tbody>\n",
       "    <tr>\n",
       "      <th>0</th>\n",
       "      <td>122981</td>\n",
       "      <td>636</td>\n",
       "      <td>4</td>\n",
       "    </tr>\n",
       "    <tr>\n",
       "      <th>1</th>\n",
       "      <td>197412</td>\n",
       "      <td>1377</td>\n",
       "      <td>42</td>\n",
       "    </tr>\n",
       "    <tr>\n",
       "      <th>2</th>\n",
       "      <td>73209</td>\n",
       "      <td>827</td>\n",
       "      <td>22</td>\n",
       "    </tr>\n",
       "    <tr>\n",
       "      <th>3</th>\n",
       "      <td>53701</td>\n",
       "      <td>56</td>\n",
       "      <td>0</td>\n",
       "    </tr>\n",
       "    <tr>\n",
       "      <th>4</th>\n",
       "      <td>98174</td>\n",
       "      <td>876</td>\n",
       "      <td>8</td>\n",
       "    </tr>\n",
       "  </tbody>\n",
       "</table>\n",
       "</div>"
      ],
      "text/plain": [
       "   population    vc  homicide\n",
       "0      122981   636         4\n",
       "1      197412  1377        42\n",
       "2       73209   827        22\n",
       "3       53701    56         0\n",
       "4       98174   876         8"
      ]
     },
     "execution_count": 2,
     "metadata": {},
     "output_type": "execute_result"
    }
   ],
   "source": [
    "df = pd.read_csv('simplified table6.csv')\n",
    "#df.astype('float64')\n",
    "print(df.shape)\n",
    "df.head()"
   ]
  },
  {
   "cell_type": "markdown",
   "metadata": {},
   "source": [
    "In machine learning, the contents of non-target variables (in this case, all columns other than violent crime vc) are extremely important to monitor. Other columns in the original dataset include the number of rapes, assaults, etc. These, however, are a subset of the violent crime total. \n",
    "\n",
    "If we leave those in the dataset, our regression model will only tell us \"Add up murders, rapes, assaults, and robberies to get the total violent crime\". While that's right, it's a fact that is of no use to us. So, the dataset has been simplified down to just population and homicide, trying to predict vc."
   ]
  },
  {
   "cell_type": "code",
   "execution_count": 3,
   "metadata": {},
   "outputs": [
    {
     "data": {
      "image/png": "[encoded data removed]",
      "text/plain": [
       "<Figure size 432x288 with 1 Axes>"
      ]
     },
     "metadata": {
      "needs_background": "light"
     },
     "output_type": "display_data"
    }
   ],
   "source": [
    "plt.scatter(df['population'],df['vc'])\n",
    "plt.title('Population v Violent Crime 2017')\n",
    "plt.xlabel('Population')\n",
    "plt.ylabel('Violent Crimes')\n",
    "plt.show()"
   ]
  },
  {
   "cell_type": "code",
   "execution_count": 4,
   "metadata": {},
   "outputs": [
    {
     "data": {
      "image/png": "[encoded data removed]",
      "text/plain": [
       "<Figure size 432x288 with 1 Axes>"
      ]
     },
     "metadata": {
      "needs_background": "light"
     },
     "output_type": "display_data"
    }
   ],
   "source": [
    "plt.scatter(df['homicide'],df['vc'])\n",
    "plt.title('Homicide v Violent Crime 2017')\n",
    "plt.xlabel('Homicide')\n",
    "plt.ylabel('Violent Crimes')\n",
    "plt.show()"
   ]
  },
  {
   "cell_type": "markdown",
   "metadata": {},
   "source": [
    "If the illegible axes don't give it away immediately, these scatter plots are too compressed to glean much from visually. The population vs violent crime plot struggles to fit one outlier case where the population exceeds 8 million. This compresses the majority of the data into a region too small to analyze visually. The homicide vs violent crime plot seems to be skewed by small municipalities with 0 homicides. Additionally, it is also victim to the skewing caused by a few major cities that were included.\n",
    "\n",
    "For our machine learning application, the two attributes of population and homicide rate will be combined to predict violent crime, so the plots would be in three dimensions. Due to the complexity of these plots, we will only pursue plotting in three dimensions if the regression model returns promising results."
   ]
  },
  {
   "cell_type": "code",
   "execution_count": 5,
   "metadata": {},
   "outputs": [],
   "source": [
    "x = df[['population','homicide']]\n",
    "y = df['vc']\n",
    "\n",
    "x_tr, x_te, y_tr, y_te = train_test_split(x,y,test_size=0.2)"
   ]
  },
  {
   "cell_type": "code",
   "execution_count": 6,
   "metadata": {},
   "outputs": [
    {
     "data": {
      "text/plain": [
       "LinearRegression(copy_X=True, fit_intercept=True, n_jobs=None,\n",
       "         normalize=False)"
      ]
     },
     "execution_count": 6,
     "metadata": {},
     "output_type": "execute_result"
    }
   ],
   "source": [
    "reg = LinearRegression()\n",
    "reg.fit(x_tr,y_tr)"
   ]
  },
  {
   "cell_type": "code",
   "execution_count": 7,
   "metadata": {},
   "outputs": [
    {
     "data": {
      "text/html": [
       "<div>\n",
       "<style scoped>\n",
       "    .dataframe tbody tr th:only-of-type {\n",
       "        vertical-align: middle;\n",
       "    }\n",
       "\n",
       "    .dataframe tbody tr th {\n",
       "        vertical-align: top;\n",
       "    }\n",
       "\n",
       "    .dataframe thead th {\n",
       "        text-align: right;\n",
       "    }\n",
       "</style>\n",
       "<table border=\"1\" class=\"dataframe\">\n",
       "  <thead>\n",
       "    <tr style=\"text-align: right;\">\n",
       "      <th></th>\n",
       "      <th>Coefficient</th>\n",
       "    </tr>\n",
       "  </thead>\n",
       "  <tbody>\n",
       "    <tr>\n",
       "      <th>population</th>\n",
       "      <td>0.004724</td>\n",
       "    </tr>\n",
       "    <tr>\n",
       "      <th>homicide</th>\n",
       "      <td>30.482362</td>\n",
       "    </tr>\n",
       "  </tbody>\n",
       "</table>\n",
       "</div>"
      ],
      "text/plain": [
       "            Coefficient\n",
       "population     0.004724\n",
       "homicide      30.482362"
      ]
     },
     "execution_count": 7,
     "metadata": {},
     "output_type": "execute_result"
    }
   ],
   "source": [
    "coef_df = pd.DataFrame(reg.coef_,x.columns, columns=['Coefficient'])\n",
    "coef_df"
   ]
  },
  {
   "cell_type": "markdown",
   "metadata": {},
   "source": [
    "The regression model has fit an equation that, given the population and number of homicides, SHOULD return the number of violent crimes.\n",
    "\n",
    "# (population/225) + 33*homicides = Violent crimes\n",
    "\n",
    "This is the general form of the equation. Given the slight randomness introduced by the training and testing set split, this may fluctuate by small factors. But, this remains the basis of the equation."
   ]
  },
  {
   "cell_type": "markdown",
   "metadata": {},
   "source": [
    "Sklearn will fit any data to any result in THE MOST OPTIMAL way. It's definition of most optimal may not be in line with the accuracy required by Safe-esteem. To check our work, 20% of our dataset was kept aside to test. The regression model will compute violent crime totals for these municipalities and compare them to the actual value."
   ]
  },
  {
   "cell_type": "code",
   "execution_count": 8,
   "metadata": {},
   "outputs": [
    {
     "data": {
      "text/html": [
       "<div>\n",
       "<style scoped>\n",
       "    .dataframe tbody tr th:only-of-type {\n",
       "        vertical-align: middle;\n",
       "    }\n",
       "\n",
       "    .dataframe tbody tr th {\n",
       "        vertical-align: top;\n",
       "    }\n",
       "\n",
       "    .dataframe thead th {\n",
       "        text-align: right;\n",
       "    }\n",
       "</style>\n",
       "<table border=\"1\" class=\"dataframe\">\n",
       "  <thead>\n",
       "    <tr style=\"text-align: right;\">\n",
       "      <th></th>\n",
       "      <th>Actual</th>\n",
       "      <th>Predicted</th>\n",
       "    </tr>\n",
       "  </thead>\n",
       "  <tbody>\n",
       "    <tr>\n",
       "      <th>149</th>\n",
       "      <td>112</td>\n",
       "      <td>116.128111</td>\n",
       "    </tr>\n",
       "    <tr>\n",
       "      <th>175</th>\n",
       "      <td>103</td>\n",
       "      <td>72.658916</td>\n",
       "    </tr>\n",
       "    <tr>\n",
       "      <th>45</th>\n",
       "      <td>37</td>\n",
       "      <td>-113.073118</td>\n",
       "    </tr>\n",
       "    <tr>\n",
       "      <th>48</th>\n",
       "      <td>15</td>\n",
       "      <td>-152.080861</td>\n",
       "    </tr>\n",
       "    <tr>\n",
       "      <th>224</th>\n",
       "      <td>114</td>\n",
       "      <td>233.030315</td>\n",
       "    </tr>\n",
       "    <tr>\n",
       "      <th>228</th>\n",
       "      <td>1737</td>\n",
       "      <td>1109.937112</td>\n",
       "    </tr>\n",
       "    <tr>\n",
       "      <th>219</th>\n",
       "      <td>194</td>\n",
       "      <td>75.885546</td>\n",
       "    </tr>\n",
       "    <tr>\n",
       "      <th>120</th>\n",
       "      <td>260</td>\n",
       "      <td>86.597119</td>\n",
       "    </tr>\n",
       "    <tr>\n",
       "      <th>179</th>\n",
       "      <td>323</td>\n",
       "      <td>98.048587</td>\n",
       "    </tr>\n",
       "    <tr>\n",
       "      <th>160</th>\n",
       "      <td>324</td>\n",
       "      <td>268.468366</td>\n",
       "    </tr>\n",
       "    <tr>\n",
       "      <th>183</th>\n",
       "      <td>41</td>\n",
       "      <td>-26.618402</td>\n",
       "    </tr>\n",
       "    <tr>\n",
       "      <th>101</th>\n",
       "      <td>65</td>\n",
       "      <td>-52.407825</td>\n",
       "    </tr>\n",
       "    <tr>\n",
       "      <th>127</th>\n",
       "      <td>110</td>\n",
       "      <td>-14.173046</td>\n",
       "    </tr>\n",
       "    <tr>\n",
       "      <th>84</th>\n",
       "      <td>84</td>\n",
       "      <td>148.951872</td>\n",
       "    </tr>\n",
       "    <tr>\n",
       "      <th>250</th>\n",
       "      <td>468</td>\n",
       "      <td>161.716668</td>\n",
       "    </tr>\n",
       "    <tr>\n",
       "      <th>69</th>\n",
       "      <td>117</td>\n",
       "      <td>-90.037905</td>\n",
       "    </tr>\n",
       "    <tr>\n",
       "      <th>147</th>\n",
       "      <td>124</td>\n",
       "      <td>207.057762</td>\n",
       "    </tr>\n",
       "    <tr>\n",
       "      <th>107</th>\n",
       "      <td>35</td>\n",
       "      <td>-82.179751</td>\n",
       "    </tr>\n",
       "    <tr>\n",
       "      <th>192</th>\n",
       "      <td>22</td>\n",
       "      <td>-154.348479</td>\n",
       "    </tr>\n",
       "    <tr>\n",
       "      <th>124</th>\n",
       "      <td>913</td>\n",
       "      <td>461.582792</td>\n",
       "    </tr>\n",
       "    <tr>\n",
       "      <th>196</th>\n",
       "      <td>2047</td>\n",
       "      <td>2823.145492</td>\n",
       "    </tr>\n",
       "    <tr>\n",
       "      <th>32</th>\n",
       "      <td>235</td>\n",
       "      <td>137.342701</td>\n",
       "    </tr>\n",
       "    <tr>\n",
       "      <th>121</th>\n",
       "      <td>371</td>\n",
       "      <td>164.911611</td>\n",
       "    </tr>\n",
       "    <tr>\n",
       "      <th>134</th>\n",
       "      <td>30507</td>\n",
       "      <td>27292.596131</td>\n",
       "    </tr>\n",
       "    <tr>\n",
       "      <th>25</th>\n",
       "      <td>82</td>\n",
       "      <td>-62.410767</td>\n",
       "    </tr>\n",
       "    <tr>\n",
       "      <th>206</th>\n",
       "      <td>3378</td>\n",
       "      <td>3347.376643</td>\n",
       "    </tr>\n",
       "    <tr>\n",
       "      <th>229</th>\n",
       "      <td>144</td>\n",
       "      <td>475.359414</td>\n",
       "    </tr>\n",
       "    <tr>\n",
       "      <th>96</th>\n",
       "      <td>519</td>\n",
       "      <td>81.333243</td>\n",
       "    </tr>\n",
       "    <tr>\n",
       "      <th>171</th>\n",
       "      <td>72</td>\n",
       "      <td>-125.941847</td>\n",
       "    </tr>\n",
       "    <tr>\n",
       "      <th>142</th>\n",
       "      <td>218</td>\n",
       "      <td>585.133486</td>\n",
       "    </tr>\n",
       "    <tr>\n",
       "      <th>72</th>\n",
       "      <td>4891</td>\n",
       "      <td>6054.797654</td>\n",
       "    </tr>\n",
       "    <tr>\n",
       "      <th>44</th>\n",
       "      <td>132</td>\n",
       "      <td>26.462741</td>\n",
       "    </tr>\n",
       "    <tr>\n",
       "      <th>60</th>\n",
       "      <td>185</td>\n",
       "      <td>160.579941</td>\n",
       "    </tr>\n",
       "    <tr>\n",
       "      <th>70</th>\n",
       "      <td>73</td>\n",
       "      <td>-67.156786</td>\n",
       "    </tr>\n",
       "    <tr>\n",
       "      <th>78</th>\n",
       "      <td>750</td>\n",
       "      <td>679.638513</td>\n",
       "    </tr>\n",
       "    <tr>\n",
       "      <th>172</th>\n",
       "      <td>46433</td>\n",
       "      <td>49402.631657</td>\n",
       "    </tr>\n",
       "    <tr>\n",
       "      <th>14</th>\n",
       "      <td>4504</td>\n",
       "      <td>4478.545831</td>\n",
       "    </tr>\n",
       "    <tr>\n",
       "      <th>167</th>\n",
       "      <td>58</td>\n",
       "      <td>173.042388</td>\n",
       "    </tr>\n",
       "    <tr>\n",
       "      <th>83</th>\n",
       "      <td>1007</td>\n",
       "      <td>687.489870</td>\n",
       "    </tr>\n",
       "    <tr>\n",
       "      <th>146</th>\n",
       "      <td>705</td>\n",
       "      <td>326.968169</td>\n",
       "    </tr>\n",
       "    <tr>\n",
       "      <th>132</th>\n",
       "      <td>554</td>\n",
       "      <td>1515.183955</td>\n",
       "    </tr>\n",
       "    <tr>\n",
       "      <th>154</th>\n",
       "      <td>3338</td>\n",
       "      <td>3568.908531</td>\n",
       "    </tr>\n",
       "    <tr>\n",
       "      <th>100</th>\n",
       "      <td>181</td>\n",
       "      <td>-11.565286</td>\n",
       "    </tr>\n",
       "    <tr>\n",
       "      <th>46</th>\n",
       "      <td>234</td>\n",
       "      <td>137.323381</td>\n",
       "    </tr>\n",
       "    <tr>\n",
       "      <th>55</th>\n",
       "      <td>224</td>\n",
       "      <td>390.176198</td>\n",
       "    </tr>\n",
       "    <tr>\n",
       "      <th>6</th>\n",
       "      <td>351</td>\n",
       "      <td>213.899790</td>\n",
       "    </tr>\n",
       "    <tr>\n",
       "      <th>204</th>\n",
       "      <td>172</td>\n",
       "      <td>294.169143</td>\n",
       "    </tr>\n",
       "    <tr>\n",
       "      <th>184</th>\n",
       "      <td>2113</td>\n",
       "      <td>1839.160181</td>\n",
       "    </tr>\n",
       "    <tr>\n",
       "      <th>226</th>\n",
       "      <td>77</td>\n",
       "      <td>145.476664</td>\n",
       "    </tr>\n",
       "    <tr>\n",
       "      <th>61</th>\n",
       "      <td>61</td>\n",
       "      <td>101.383874</td>\n",
       "    </tr>\n",
       "    <tr>\n",
       "      <th>136</th>\n",
       "      <td>1253</td>\n",
       "      <td>1770.834191</td>\n",
       "    </tr>\n",
       "  </tbody>\n",
       "</table>\n",
       "</div>"
      ],
      "text/plain": [
       "     Actual     Predicted\n",
       "149     112    116.128111\n",
       "175     103     72.658916\n",
       "45       37   -113.073118\n",
       "48       15   -152.080861\n",
       "224     114    233.030315\n",
       "228    1737   1109.937112\n",
       "219     194     75.885546\n",
       "120     260     86.597119\n",
       "179     323     98.048587\n",
       "160     324    268.468366\n",
       "183      41    -26.618402\n",
       "101      65    -52.407825\n",
       "127     110    -14.173046\n",
       "84       84    148.951872\n",
       "250     468    161.716668\n",
       "69      117    -90.037905\n",
       "147     124    207.057762\n",
       "107      35    -82.179751\n",
       "192      22   -154.348479\n",
       "124     913    461.582792\n",
       "196    2047   2823.145492\n",
       "32      235    137.342701\n",
       "121     371    164.911611\n",
       "134   30507  27292.596131\n",
       "25       82    -62.410767\n",
       "206    3378   3347.376643\n",
       "229     144    475.359414\n",
       "96      519     81.333243\n",
       "171      72   -125.941847\n",
       "142     218    585.133486\n",
       "72     4891   6054.797654\n",
       "44      132     26.462741\n",
       "60      185    160.579941\n",
       "70       73    -67.156786\n",
       "78      750    679.638513\n",
       "172   46433  49402.631657\n",
       "14     4504   4478.545831\n",
       "167      58    173.042388\n",
       "83     1007    687.489870\n",
       "146     705    326.968169\n",
       "132     554   1515.183955\n",
       "154    3338   3568.908531\n",
       "100     181    -11.565286\n",
       "46      234    137.323381\n",
       "55      224    390.176198\n",
       "6       351    213.899790\n",
       "204     172    294.169143\n",
       "184    2113   1839.160181\n",
       "226      77    145.476664\n",
       "61       61    101.383874\n",
       "136    1253   1770.834191"
      ]
     },
     "execution_count": 8,
     "metadata": {},
     "output_type": "execute_result"
    }
   ],
   "source": [
    "y_pred = reg.predict(x_te)\n",
    "\n",
    "result = pd.DataFrame({'Actual': y_te, 'Predicted': y_pred})\n",
    "result"
   ]
  },
  {
   "cell_type": "code",
   "execution_count": 9,
   "metadata": {},
   "outputs": [
    {
     "name": "stdout",
     "output_type": "stream",
     "text": [
      "Mean Absolute Error: 339.37021430377416\n",
      "Mean Squared Error: 477908.0248304377\n",
      "Root Mean Squared Error: 691.3089214167843\n"
     ]
    }
   ],
   "source": [
    "print('Mean Absolute Error:', metrics.mean_absolute_error(y_te, y_pred))  \n",
    "print('Mean Squared Error:', metrics.mean_squared_error(y_te, y_pred))  \n",
    "print('Root Mean Squared Error:', np.sqrt(metrics.mean_squared_error(y_te, y_pred)))"
   ]
  },
  {
   "cell_type": "markdown",
   "metadata": {},
   "source": [
    "The results are extremely poor for this experiment.\n",
    "\n",
    "The Root Mean Square Error can be interpreted as saying the model will incorrectly predict the total violent crime in a municipality by nearly 700. This is clearly unacceptable, especially since some municipalioties have been predicted to have negative(!) violent crime totals. This is likely a demographic issue. The United States is an incredibly diverse country, with more duality between urban and rural than should be expected in smaller countries. \n",
    "\n",
    "Perhaps this analysis can be more useful if we assume that countries that lack the infrastructure to maintain records of violent crime may have more uniform urban/rural distribution. Perhaps adding more variables to this analysis will create a better result. Then the issue becomes what variables and how to access them. \n",
    "\n",
    "Ultimately, this coincides with the conclusion of the first analysis. On a nationwide aggregate, murder and violent crime seem to correlate nearly linearly. As the scale gets smaller, the trend breaks. At the municipality level, the trend is nearly nonexistant, so some examples have a predicted violent crime total off by a factor of 4."
   ]
  },
  {
   "cell_type": "code",
   "execution_count": null,
   "metadata": {},
   "outputs": [],
   "source": []
  }
 ],
 "metadata": {
  "kernelspec": {
   "display_name": "Python 3",
   "language": "python",
   "name": "python3"
  },
  "language_info": {
   "codemirror_mode": {
    "name": "ipython",
    "version": 3
   },
   "file_extension": ".py",
   "mimetype": "text/x-python",
   "name": "python",
   "nbconvert_exporter": "python",
   "pygments_lexer": "ipython3",
   "version": "3.7.1"
  }
 },
 "nbformat": 4,
 "nbformat_minor": 2
}
