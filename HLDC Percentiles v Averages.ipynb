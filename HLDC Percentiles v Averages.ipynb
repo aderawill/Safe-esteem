{
 "cells": [
  {
   "cell_type": "markdown",
   "metadata": {},
   "source": [
    "## Using Percentiles instead of Averages for Hyper Local Data Collection\n",
    "#### Daniel Verdear for Safe-esteem"
   ]
  },
  {
   "cell_type": "markdown",
   "metadata": {},
   "source": [
    "In the interview process for collecting hyper local data, we are currently using a 9 point scale (1 to 5, by 0.5). This scale is based on the arithmetic mean. This may make the point scale vulnerable to extreme outliers and present a stronger dichotomy between safe and dangerous neighborhoods than actually exists.\n",
    "\n",
    "These issues of scaling should be addressed in some way. Our first attempt will be through assigning the point scale according to percentiles. That way, 50% of  neighborhoods will ALWAYS have a score below 3.0, and the other half will ALWAYS have a score at or above 3.0.\n",
    "\n",
    "These conversions will be done in Python."
   ]
  },
  {
   "cell_type": "code",
   "execution_count": 1,
   "metadata": {},
   "outputs": [],
   "source": [
    "import numpy as np\n",
    "import scipy as sp\n",
    "import pandas as pd"
   ]
  },
  {
   "cell_type": "code",
   "execution_count": 2,
   "metadata": {},
   "outputs": [],
   "source": [
    "miami = np.array([4.1,4.6,0.0,28.6,0.0,9.7,0.0,0.0,0.0,5.9,0.0,76.2,34.0,0.0,26.2,0.0,0.0,0.0,15.1,39.6,7.6,0.0,6.4,6.5,0.0,\n",
    "                  3.8,0.0,0.0,0.0,11.0,15.9,0.0,118.2,5.2,0.0,0.0,0.0,3.8,4.4,13.1,5.4,0.0,0.0,0.0,0.0,0.0,0.0,0.0,0.0,9.9,\n",
    "                  0.0,4.7,0.0])\n",
    "baltimore = np.array([79.5,45.5,11.4,68.2,79.5,0.0,22.7,79.5,0.0,11.4,79.5,0.0,0.0,34.1,56.8,56.8,22.7,113.6,11.4,34.1,22.7,\n",
    "                      147.7,0.0,79.5,79.5,22.7,22.7,0.0,0.0,102.3,0.0,11.4,11.4,193.2,0.0,22.7,193.2,11.4,0.0,11.4,11.4,\n",
    "                      102.3,22.7,34.1,45.5,79.5,113.6,136.4,0.0,56.8,90.9,147.7,34.1,113.6,79.5,45.5])"
   ]
  },
  {
   "cell_type": "code",
   "execution_count": 3,
   "metadata": {},
   "outputs": [
    {
     "name": "stdout",
     "output_type": "stream",
     "text": [
      "[ 0.    0.    0.    0.    0.    4.16  5.6   9.82 24.14]\n",
      "[  0.   11.4  11.4  22.7  34.1  56.8  79.5  79.5 113.6]\n"
     ]
    }
   ],
   "source": [
    "miaP = np.percentile(miami,[10,20,30,40,50,60,70,80,90])\n",
    "balP = np.percentile(baltimore,[10,20,30,40,50,60,70,80,90])\n",
    "\n",
    "miaA = [118.2,90.8,63.4,36.1,8.7,6.5,4.3,2.2,0.0]\n",
    "balA = [193.2,157.6,122.1,86.5,50.9,38.2,25.5,12.7,0.0]\n",
    "miaA.reverse()\n",
    "balA.reverse()\n",
    "\n",
    "print(miaP)\n",
    "print(balP)"
   ]
  },
  {
   "cell_type": "markdown",
   "metadata": {},
   "source": [
    "These initial calculations are showing the possible flaws of using percentile benchmarks. In Miami, enough neighborhoods have a 0.0 value for homicides per capita that percentiles 10 through 50 (corresponding to 1.0 through 3.0) are all 0.0. Therefore, all of those scores lose their relative meaning.\n",
    "\n",
    "From this example, we can conclude that although percentiles provide a theoretical benefit, they have glaring practical flaws that make the 9 point scale borderline useless. So, we conclude that the current scaling system is the preferred option. "
   ]
  },
  {
   "cell_type": "code",
   "execution_count": 4,
   "metadata": {},
   "outputs": [
    {
     "data": {
      "text/html": [
       "<div>\n",
       "<style scoped>\n",
       "    .dataframe tbody tr th:only-of-type {\n",
       "        vertical-align: middle;\n",
       "    }\n",
       "\n",
       "    .dataframe tbody tr th {\n",
       "        vertical-align: top;\n",
       "    }\n",
       "\n",
       "    .dataframe thead th {\n",
       "        text-align: right;\n",
       "    }\n",
       "</style>\n",
       "<table border=\"1\" class=\"dataframe\">\n",
       "  <thead>\n",
       "    <tr style=\"text-align: right;\">\n",
       "      <th></th>\n",
       "      <th>Averages Miami</th>\n",
       "      <th>Percentiles Miami</th>\n",
       "      <th>Averages Baltimore</th>\n",
       "      <th>Percentiles Baltimore</th>\n",
       "    </tr>\n",
       "  </thead>\n",
       "  <tbody>\n",
       "    <tr>\n",
       "      <th>0</th>\n",
       "      <td>0.0</td>\n",
       "      <td>0.00</td>\n",
       "      <td>0.0</td>\n",
       "      <td>0.0</td>\n",
       "    </tr>\n",
       "    <tr>\n",
       "      <th>1</th>\n",
       "      <td>2.2</td>\n",
       "      <td>0.00</td>\n",
       "      <td>12.7</td>\n",
       "      <td>11.4</td>\n",
       "    </tr>\n",
       "    <tr>\n",
       "      <th>2</th>\n",
       "      <td>4.3</td>\n",
       "      <td>0.00</td>\n",
       "      <td>25.5</td>\n",
       "      <td>11.4</td>\n",
       "    </tr>\n",
       "    <tr>\n",
       "      <th>3</th>\n",
       "      <td>6.5</td>\n",
       "      <td>0.00</td>\n",
       "      <td>38.2</td>\n",
       "      <td>22.7</td>\n",
       "    </tr>\n",
       "    <tr>\n",
       "      <th>4</th>\n",
       "      <td>8.7</td>\n",
       "      <td>0.00</td>\n",
       "      <td>50.9</td>\n",
       "      <td>34.1</td>\n",
       "    </tr>\n",
       "    <tr>\n",
       "      <th>5</th>\n",
       "      <td>36.1</td>\n",
       "      <td>4.16</td>\n",
       "      <td>86.5</td>\n",
       "      <td>56.8</td>\n",
       "    </tr>\n",
       "    <tr>\n",
       "      <th>6</th>\n",
       "      <td>63.4</td>\n",
       "      <td>5.60</td>\n",
       "      <td>122.1</td>\n",
       "      <td>79.5</td>\n",
       "    </tr>\n",
       "    <tr>\n",
       "      <th>7</th>\n",
       "      <td>90.8</td>\n",
       "      <td>9.82</td>\n",
       "      <td>157.6</td>\n",
       "      <td>79.5</td>\n",
       "    </tr>\n",
       "    <tr>\n",
       "      <th>8</th>\n",
       "      <td>118.2</td>\n",
       "      <td>24.14</td>\n",
       "      <td>193.2</td>\n",
       "      <td>113.6</td>\n",
       "    </tr>\n",
       "  </tbody>\n",
       "</table>\n",
       "</div>"
      ],
      "text/plain": [
       "   Averages Miami  Percentiles Miami  Averages Baltimore  \\\n",
       "0             0.0               0.00                 0.0   \n",
       "1             2.2               0.00                12.7   \n",
       "2             4.3               0.00                25.5   \n",
       "3             6.5               0.00                38.2   \n",
       "4             8.7               0.00                50.9   \n",
       "5            36.1               4.16                86.5   \n",
       "6            63.4               5.60               122.1   \n",
       "7            90.8               9.82               157.6   \n",
       "8           118.2              24.14               193.2   \n",
       "\n",
       "   Percentiles Baltimore  \n",
       "0                    0.0  \n",
       "1                   11.4  \n",
       "2                   11.4  \n",
       "3                   22.7  \n",
       "4                   34.1  \n",
       "5                   56.8  \n",
       "6                   79.5  \n",
       "7                   79.5  \n",
       "8                  113.6  "
      ]
     },
     "execution_count": 4,
     "metadata": {},
     "output_type": "execute_result"
    }
   ],
   "source": [
    "d = {'Averages Miami': miaA,'Percentiles Miami': miaP, \n",
    "     'Averages Baltimore': balA,'Percentiles Baltimore': balP}\n",
    "pd.DataFrame(data = d)"
   ]
  },
  {
   "cell_type": "code",
   "execution_count": null,
   "metadata": {},
   "outputs": [],
   "source": []
  }
 ],
 "metadata": {
  "kernelspec": {
   "display_name": "Python 3",
   "language": "python",
   "name": "python3"
  },
  "language_info": {
   "codemirror_mode": {
    "name": "ipython",
    "version": 3
   },
   "file_extension": ".py",
   "mimetype": "text/x-python",
   "name": "python",
   "nbconvert_exporter": "python",
   "pygments_lexer": "ipython3",
   "version": "3.7.1"
  }
 },
 "nbformat": 4,
 "nbformat_minor": 2
}
