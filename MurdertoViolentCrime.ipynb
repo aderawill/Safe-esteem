{
 "cells": [
  {
   "cell_type": "markdown",
   "metadata": {},
   "source": [
    "## A First Look at Estimating Violent Crime Using Murder Rate\n",
    "#### Daniel Verdear for Safe-esteem"
   ]
  },
  {
   "cell_type": "markdown",
   "metadata": {},
   "source": [
    "A fundamental dilemma faced in the data interpretation stage of Safe-esteem's development is the lack of consistent data on violent crime. The definition and reliability of violent crime data varies based on the jurisdiction, so finding a proxy for violent crime will be useful to simplify the data analysis. Across the world, data for homicides is accurately published. As far as data analysis is concerned, this would be a very useful proxy if it can be shown that homicide rates correlate with violent crime rates.\n",
    "\n",
    "We will examine this possible correlation using Python."
   ]
  },
  {
   "cell_type": "code",
   "execution_count": 1,
   "metadata": {},
   "outputs": [],
   "source": [
    "import numpy as np\n",
    "import scipy as sp\n",
    "import matplotlib.pyplot as plt\n",
    "import pandas as pd"
   ]
  },
  {
   "cell_type": "code",
   "execution_count": 2,
   "metadata": {},
   "outputs": [
    {
     "name": "stdout",
     "output_type": "stream",
     "text": [
      "(1196, 16)\n"
     ]
    },
    {
     "data": {
      "text/html": [
       "<div>\n",
       "<style scoped>\n",
       "    .dataframe tbody tr th:only-of-type {\n",
       "        vertical-align: middle;\n",
       "    }\n",
       "\n",
       "    .dataframe tbody tr th {\n",
       "        vertical-align: top;\n",
       "    }\n",
       "\n",
       "    .dataframe thead th {\n",
       "        text-align: right;\n",
       "    }\n",
       "</style>\n",
       "<table border=\"1\" class=\"dataframe\">\n",
       "  <thead>\n",
       "    <tr style=\"text-align: right;\">\n",
       "      <th></th>\n",
       "      <th>year</th>\n",
       "      <th>state_id</th>\n",
       "      <th>state_abbr</th>\n",
       "      <th>state_name</th>\n",
       "      <th>population</th>\n",
       "      <th>violent_crime</th>\n",
       "      <th>homicide</th>\n",
       "      <th>rape_legacy</th>\n",
       "      <th>rape_revised</th>\n",
       "      <th>robbery</th>\n",
       "      <th>aggravated_assault</th>\n",
       "      <th>property_crime</th>\n",
       "      <th>burglary</th>\n",
       "      <th>larceny</th>\n",
       "      <th>motor_vehicle_theft</th>\n",
       "      <th>caveats</th>\n",
       "    </tr>\n",
       "  </thead>\n",
       "  <tbody>\n",
       "    <tr>\n",
       "      <th>0</th>\n",
       "      <td>1995</td>\n",
       "      <td>NaN</td>\n",
       "      <td>NaN</td>\n",
       "      <td>NaN</td>\n",
       "      <td>262803276</td>\n",
       "      <td>1798792</td>\n",
       "      <td>21606</td>\n",
       "      <td>97470</td>\n",
       "      <td>NaN</td>\n",
       "      <td>580509</td>\n",
       "      <td>1099207</td>\n",
       "      <td>12063935</td>\n",
       "      <td>2593784</td>\n",
       "      <td>7997710</td>\n",
       "      <td>1472441</td>\n",
       "      <td>NaN</td>\n",
       "    </tr>\n",
       "    <tr>\n",
       "      <th>1</th>\n",
       "      <td>1996</td>\n",
       "      <td>NaN</td>\n",
       "      <td>NaN</td>\n",
       "      <td>NaN</td>\n",
       "      <td>265228572</td>\n",
       "      <td>1688540</td>\n",
       "      <td>19645</td>\n",
       "      <td>96252</td>\n",
       "      <td>NaN</td>\n",
       "      <td>535594</td>\n",
       "      <td>1037049</td>\n",
       "      <td>11805323</td>\n",
       "      <td>2506400</td>\n",
       "      <td>7904685</td>\n",
       "      <td>1394238</td>\n",
       "      <td>NaN</td>\n",
       "    </tr>\n",
       "    <tr>\n",
       "      <th>2</th>\n",
       "      <td>1997</td>\n",
       "      <td>NaN</td>\n",
       "      <td>NaN</td>\n",
       "      <td>NaN</td>\n",
       "      <td>267783607</td>\n",
       "      <td>1636099</td>\n",
       "      <td>18211</td>\n",
       "      <td>96153</td>\n",
       "      <td>NaN</td>\n",
       "      <td>498534</td>\n",
       "      <td>1023201</td>\n",
       "      <td>11558975</td>\n",
       "      <td>2461026</td>\n",
       "      <td>7743760</td>\n",
       "      <td>1354189</td>\n",
       "      <td>NaN</td>\n",
       "    </tr>\n",
       "    <tr>\n",
       "      <th>3</th>\n",
       "      <td>1998</td>\n",
       "      <td>NaN</td>\n",
       "      <td>NaN</td>\n",
       "      <td>NaN</td>\n",
       "      <td>270248003</td>\n",
       "      <td>1533887</td>\n",
       "      <td>16974</td>\n",
       "      <td>93144</td>\n",
       "      <td>NaN</td>\n",
       "      <td>447186</td>\n",
       "      <td>976583</td>\n",
       "      <td>10951827</td>\n",
       "      <td>2332735</td>\n",
       "      <td>7376311</td>\n",
       "      <td>1242781</td>\n",
       "      <td>NaN</td>\n",
       "    </tr>\n",
       "    <tr>\n",
       "      <th>4</th>\n",
       "      <td>1999</td>\n",
       "      <td>NaN</td>\n",
       "      <td>NaN</td>\n",
       "      <td>NaN</td>\n",
       "      <td>272690813</td>\n",
       "      <td>1426044</td>\n",
       "      <td>15522</td>\n",
       "      <td>89411</td>\n",
       "      <td>NaN</td>\n",
       "      <td>409371</td>\n",
       "      <td>911740</td>\n",
       "      <td>10208334</td>\n",
       "      <td>2100739</td>\n",
       "      <td>6955520</td>\n",
       "      <td>1152075</td>\n",
       "      <td>NaN</td>\n",
       "    </tr>\n",
       "  </tbody>\n",
       "</table>\n",
       "</div>"
      ],
      "text/plain": [
       "   year  state_id state_abbr state_name  population  violent_crime  homicide  \\\n",
       "0  1995       NaN        NaN        NaN   262803276        1798792     21606   \n",
       "1  1996       NaN        NaN        NaN   265228572        1688540     19645   \n",
       "2  1997       NaN        NaN        NaN   267783607        1636099     18211   \n",
       "3  1998       NaN        NaN        NaN   270248003        1533887     16974   \n",
       "4  1999       NaN        NaN        NaN   272690813        1426044     15522   \n",
       "\n",
       "   rape_legacy  rape_revised  robbery  aggravated_assault  property_crime  \\\n",
       "0        97470           NaN   580509             1099207        12063935   \n",
       "1        96252           NaN   535594             1037049        11805323   \n",
       "2        96153           NaN   498534             1023201        11558975   \n",
       "3        93144           NaN   447186              976583        10951827   \n",
       "4        89411           NaN   409371              911740        10208334   \n",
       "\n",
       "   burglary  larceny  motor_vehicle_theft caveats  \n",
       "0   2593784  7997710              1472441     NaN  \n",
       "1   2506400  7904685              1394238     NaN  \n",
       "2   2461026  7743760              1354189     NaN  \n",
       "3   2332735  7376311              1242781     NaN  \n",
       "4   2100739  6955520              1152075     NaN  "
      ]
     },
     "execution_count": 2,
     "metadata": {},
     "output_type": "execute_result"
    }
   ],
   "source": [
    "df = pd.read_csv('estimated_crimes.csv')\n",
    "print(df.shape)\n",
    "df.head()"
   ]
  },
  {
   "cell_type": "code",
   "execution_count": 3,
   "metadata": {},
   "outputs": [
    {
     "name": "stdout",
     "output_type": "stream",
     "text": [
      "[1995 1996 1997 1998 1999 2000 2001 2002 2003 2004 2005 2006 2007 2008\n",
      " 2009 2010 2011 2012 2013 2014 2015 2016 2017]\n",
      "[nan 'AK' 'AL' 'AR' 'AZ' 'CA' 'CO' 'CT' 'DC' 'DE' 'FL' 'GA' 'HI' 'IA' 'ID'\n",
      " 'IL' 'IN' 'KS' 'KY' 'LA' 'MA' 'MD' 'ME' 'MI' 'MN' 'MO' 'MS' 'MT' 'NC'\n",
      " 'ND' 'NE' 'NH' 'NJ' 'NM' 'NV' 'NY' 'OH' 'OK' 'OR' 'PA' 'RI' 'SC' 'SD'\n",
      " 'TN' 'TX' 'UT' 'VA' 'VT' 'WA' 'WI' 'WV' 'WY']\n"
     ]
    }
   ],
   "source": [
    "print(df['year'].unique())\n",
    "print(df['state_abbr'].unique())"
   ]
  },
  {
   "cell_type": "markdown",
   "metadata": {},
   "source": [
    "Unfortunately, Florida is one of the approximately dozen states that only reports violent crime data using the Summary Reporting System (SRS). The data that can be collected for Florida will be more limited than is available in other states, but the SRS dataset imported above includes data for every state as well as national aggregates.\n",
    "\n",
    "We will begin our analysis with Florida."
   ]
  },
  {
   "cell_type": "code",
   "execution_count": 4,
   "metadata": {},
   "outputs": [
    {
     "data": {
      "text/html": [
       "<div>\n",
       "<style scoped>\n",
       "    .dataframe tbody tr th:only-of-type {\n",
       "        vertical-align: middle;\n",
       "    }\n",
       "\n",
       "    .dataframe tbody tr th {\n",
       "        vertical-align: top;\n",
       "    }\n",
       "\n",
       "    .dataframe thead th {\n",
       "        text-align: right;\n",
       "    }\n",
       "</style>\n",
       "<table border=\"1\" class=\"dataframe\">\n",
       "  <thead>\n",
       "    <tr style=\"text-align: right;\">\n",
       "      <th></th>\n",
       "      <th>year</th>\n",
       "      <th>state_id</th>\n",
       "      <th>state_abbr</th>\n",
       "      <th>state_name</th>\n",
       "      <th>population</th>\n",
       "      <th>violent_crime</th>\n",
       "      <th>homicide</th>\n",
       "      <th>rape_legacy</th>\n",
       "      <th>rape_revised</th>\n",
       "      <th>robbery</th>\n",
       "      <th>aggravated_assault</th>\n",
       "      <th>property_crime</th>\n",
       "      <th>burglary</th>\n",
       "      <th>larceny</th>\n",
       "      <th>motor_vehicle_theft</th>\n",
       "      <th>caveats</th>\n",
       "    </tr>\n",
       "  </thead>\n",
       "  <tbody>\n",
       "    <tr>\n",
       "      <th>230</th>\n",
       "      <td>1995</td>\n",
       "      <td>12.0</td>\n",
       "      <td>FL</td>\n",
       "      <td>Florida</td>\n",
       "      <td>14166000</td>\n",
       "      <td>151711</td>\n",
       "      <td>1037</td>\n",
       "      <td>6887</td>\n",
       "      <td>NaN</td>\n",
       "      <td>42485</td>\n",
       "      <td>101302</td>\n",
       "      <td>939288</td>\n",
       "      <td>215657</td>\n",
       "      <td>612311</td>\n",
       "      <td>111320</td>\n",
       "      <td>NaN</td>\n",
       "    </tr>\n",
       "    <tr>\n",
       "      <th>231</th>\n",
       "      <td>1996</td>\n",
       "      <td>12.0</td>\n",
       "      <td>FL</td>\n",
       "      <td>Florida</td>\n",
       "      <td>14400000</td>\n",
       "      <td>151350</td>\n",
       "      <td>1077</td>\n",
       "      <td>7508</td>\n",
       "      <td>NaN</td>\n",
       "      <td>41643</td>\n",
       "      <td>101122</td>\n",
       "      <td>928273</td>\n",
       "      <td>219056</td>\n",
       "      <td>605448</td>\n",
       "      <td>103769</td>\n",
       "      <td>The state UCR Program was unable to provide co...</td>\n",
       "    </tr>\n",
       "    <tr>\n",
       "      <th>232</th>\n",
       "      <td>1997</td>\n",
       "      <td>12.0</td>\n",
       "      <td>FL</td>\n",
       "      <td>Florida</td>\n",
       "      <td>14654000</td>\n",
       "      <td>149996</td>\n",
       "      <td>1012</td>\n",
       "      <td>7599</td>\n",
       "      <td>NaN</td>\n",
       "      <td>40459</td>\n",
       "      <td>100926</td>\n",
       "      <td>915613</td>\n",
       "      <td>213926</td>\n",
       "      <td>594492</td>\n",
       "      <td>107195</td>\n",
       "      <td>NaN</td>\n",
       "    </tr>\n",
       "    <tr>\n",
       "      <th>233</th>\n",
       "      <td>1998</td>\n",
       "      <td>12.0</td>\n",
       "      <td>FL</td>\n",
       "      <td>Florida</td>\n",
       "      <td>14916000</td>\n",
       "      <td>140016</td>\n",
       "      <td>967</td>\n",
       "      <td>7404</td>\n",
       "      <td>NaN</td>\n",
       "      <td>36198</td>\n",
       "      <td>95447</td>\n",
       "      <td>887107</td>\n",
       "      <td>203105</td>\n",
       "      <td>579752</td>\n",
       "      <td>104250</td>\n",
       "      <td>NaN</td>\n",
       "    </tr>\n",
       "    <tr>\n",
       "      <th>234</th>\n",
       "      <td>1999</td>\n",
       "      <td>12.0</td>\n",
       "      <td>FL</td>\n",
       "      <td>Florida</td>\n",
       "      <td>15111244</td>\n",
       "      <td>129044</td>\n",
       "      <td>859</td>\n",
       "      <td>6990</td>\n",
       "      <td>NaN</td>\n",
       "      <td>31969</td>\n",
       "      <td>89226</td>\n",
       "      <td>808674</td>\n",
       "      <td>181378</td>\n",
       "      <td>534105</td>\n",
       "      <td>93191</td>\n",
       "      <td>NaN</td>\n",
       "    </tr>\n",
       "  </tbody>\n",
       "</table>\n",
       "</div>"
      ],
      "text/plain": [
       "     year  state_id state_abbr state_name  population  violent_crime  \\\n",
       "230  1995      12.0         FL    Florida    14166000         151711   \n",
       "231  1996      12.0         FL    Florida    14400000         151350   \n",
       "232  1997      12.0         FL    Florida    14654000         149996   \n",
       "233  1998      12.0         FL    Florida    14916000         140016   \n",
       "234  1999      12.0         FL    Florida    15111244         129044   \n",
       "\n",
       "     homicide  rape_legacy  rape_revised  robbery  aggravated_assault  \\\n",
       "230      1037         6887           NaN    42485              101302   \n",
       "231      1077         7508           NaN    41643              101122   \n",
       "232      1012         7599           NaN    40459              100926   \n",
       "233       967         7404           NaN    36198               95447   \n",
       "234       859         6990           NaN    31969               89226   \n",
       "\n",
       "     property_crime  burglary  larceny  motor_vehicle_theft  \\\n",
       "230          939288    215657   612311               111320   \n",
       "231          928273    219056   605448               103769   \n",
       "232          915613    213926   594492               107195   \n",
       "233          887107    203105   579752               104250   \n",
       "234          808674    181378   534105                93191   \n",
       "\n",
       "                                               caveats  \n",
       "230                                                NaN  \n",
       "231  The state UCR Program was unable to provide co...  \n",
       "232                                                NaN  \n",
       "233                                                NaN  \n",
       "234                                                NaN  "
      ]
     },
     "execution_count": 4,
     "metadata": {},
     "output_type": "execute_result"
    }
   ],
   "source": [
    "FL = df[df['state_abbr'] == 'FL']\n",
    "FL.head()"
   ]
  },
  {
   "cell_type": "markdown",
   "metadata": {},
   "source": [
    "We will use the pairwise correlation function of pandas to test the correlation between 'violent_crime' and 'homicide'. We will be using the function defaults, which use the standard Pearson correlation coefficient.\n",
    "\n",
    "We will then visualize these two columns to verify the correlation visually."
   ]
  },
  {
   "cell_type": "code",
   "execution_count": 5,
   "metadata": {},
   "outputs": [
    {
     "data": {
      "text/plain": [
       "-0.05797180127331061"
      ]
     },
     "execution_count": 5,
     "metadata": {},
     "output_type": "execute_result"
    }
   ],
   "source": [
    "FL['homicide'].corr(FL['violent_crime'])"
   ]
  },
  {
   "cell_type": "code",
   "execution_count": 6,
   "metadata": {},
   "outputs": [
    {
     "data": {
      "image/png": "[encoded data removed]",
      "text/plain": [
       "<Figure size 432x288 with 1 Axes>"
      ]
     },
     "metadata": {
      "needs_background": "light"
     },
     "output_type": "display_data"
    }
   ],
   "source": [
    "plt.scatter(FL['homicide'],FL['violent_crime'])\n",
    "plt.title('Murders v Violent Crime 1995-2017')\n",
    "plt.xlabel('Murders')\n",
    "plt.ylabel('Violent Crimes')\n",
    "plt.show()"
   ]
  },
  {
   "cell_type": "markdown",
   "metadata": {},
   "source": [
    "If there's a correlation between these datapoints, it surely is not linear...\n",
    "\n",
    "The correlation coefficient for these two variables is nearly 0. That means that there is not discernable linear relationship between the two values. For completeness, we will still carry out these experiments on the national aggregates."
   ]
  },
  {
   "cell_type": "code",
   "execution_count": 11,
   "metadata": {},
   "outputs": [],
   "source": [
    "usa = df[df.state_abbr.isnull()]"
   ]
  },
  {
   "cell_type": "code",
   "execution_count": 13,
   "metadata": {},
   "outputs": [
    {
     "data": {
      "text/plain": [
       "0.8658986142015053"
      ]
     },
     "execution_count": 13,
     "metadata": {},
     "output_type": "execute_result"
    }
   ],
   "source": [
    "usa['homicide'].corr(usa['violent_crime'])"
   ]
  },
  {
   "cell_type": "code",
   "execution_count": 14,
   "metadata": {},
   "outputs": [
    {
     "data": {
      "image/png": "[encoded data removed]",
      "text/plain": [
       "<Figure size 432x288 with 1 Axes>"
      ]
     },
     "metadata": {
      "needs_background": "light"
     },
     "output_type": "display_data"
    }
   ],
   "source": [
    "plt.scatter(usa['homicide'],usa['violent_crime'])\n",
    "plt.title('Murders v Violent Crime 1995-2017')\n",
    "plt.xlabel('Murders')\n",
    "plt.ylabel('Violent Crimes')\n",
    "plt.show()"
   ]
  },
  {
   "cell_type": "markdown",
   "metadata": {},
   "source": [
    "### Conclusion\n",
    "\n",
    "Interstingly, the national aggregates have linear correlation. However, with Safe-esteem's focus on granular data, this finding will likely be of little use to the project. Moreover, the SRS system for data reporting is incredibly antiquated. It is set to be retired and replaced with a more robust system in 2021.\n",
    "\n",
    "We conclude via this short study that a sufficiently large sample of data will show correlation between homicide rate and violent crime rate. However, the interest of Safe-esteem is at analyzing smaller samples to derive more granular insights. And, for the Florida sample, the correlation falls apart. Therefore, we should continue searching for options to proxy violent crime rates on a small scale."
   ]
  },
  {
   "cell_type": "code",
   "execution_count": null,
   "metadata": {},
   "outputs": [],
   "source": []
  }
 ],
 "metadata": {
  "kernelspec": {
   "display_name": "Python 3",
   "language": "python",
   "name": "python3"
  },
  "language_info": {
   "codemirror_mode": {
    "name": "ipython",
    "version": 3
   },
   "file_extension": ".py",
   "mimetype": "text/x-python",
   "name": "python",
   "nbconvert_exporter": "python",
   "pygments_lexer": "ipython3",
   "version": "3.7.1"
  }
 },
 "nbformat": 4,
 "nbformat_minor": 2
}
